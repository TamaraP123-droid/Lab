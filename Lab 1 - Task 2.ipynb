{
 "cells": [
  {
   "cell_type": "markdown",
   "metadata": {},
   "source": [
    "<a href=\"https://colab.research.google.com/github/Teoroo-CMC/DoE_Course_Material/blob/main/Week_2/Lab_1/Task_2/opt.ipynb\" target=\"_parent\"><img src=\"https://colab.research.google.com/assets/colab-badge.svg\" alt=\"Open In Colab\"/></a>"
   ]
  },
  {
   "cell_type": "markdown",
   "metadata": {},
   "source": [
    "# Lab: find optimum"
   ]
  },
  {
   "cell_type": "code",
   "execution_count": 52,
   "metadata": {},
   "outputs": [],
   "source": [
    "import numpy as np\n",
    "import matplotlib.pyplot as plt\n",
    "import random\n",
    "import pandas as pd\n",
    "import numpy as np\n",
    "from numpy.random import rand\n",
    "\n",
    "%matplotlib inline\n",
    "\n",
    "from numpy.random import rand, seed\n",
    "import seaborn as sns\n",
    "import scipy.stats as stats\n",
    "from matplotlib.pyplot import *\n",
    "import statsmodels.api as sm\n",
    "import statsmodels.formula.api as smf"
   ]
  },
  {
   "cell_type": "markdown",
   "metadata": {},
   "source": [
    "## Experiment\n",
    "This part defines you experiment. To get data from your experimental setup, just \n",
    "\n",
    "```python \n",
    "gaussian_function=(x, y, fwhm)\n",
    "```\n",
    "\n",
    "which will give you you result "
   ]
  },
  {
   "cell_type": "code",
   "execution_count": 2,
   "metadata": {},
   "outputs": [],
   "source": [
    "# Data generation. Doo not touch... This is your physical space :) \n",
    "\n",
    "def gaussian_function(x, y, pars=None, add_noise=False):\n",
    "    # to be changed: genereate all data here\n",
    "    np.random.seed(2)\n",
    "    if not pars:\n",
    "        x0 = np.random.randn(1)[0]+0.5\n",
    "        y0 = x0+0.5\n",
    "        fwhm = np.random.normal(loc=1.5,scale=3, size=100).mean()\n",
    "    else:\n",
    "        x0, y0, fwhm = pars\n",
    "        \n",
    "    func = 10*np.exp(-4*np.log(2) * ((x-x0)**2 + (y-y0)**2) / fwhm**2)\n",
    "    \n",
    "    if add_noise:\n",
    "        func = add_noise_func(func)\n",
    "    \n",
    "    return func, x0, y0, fwhm\n",
    "\n",
    "def add_noise_func(input_data, mean_noise=0):\n",
    "    # incomplete: refactor code to generate data + noise in one function\n",
    "    avg_data = np.mean(input_data)\n",
    "    noise_ = np.random.normal(mean_noise, np.sqrt(avg_data), 1)[0]\n",
    "    output_data = input_data + noise_\n",
    "    \n",
    "    return output_data\n",
    "\n"
   ]
  },
  {
   "cell_type": "markdown",
   "metadata": {},
   "source": [
    "This is how you call for experimental data at x=1 and y=1: "
   ]
  },
  {
   "cell_type": "code",
   "execution_count": 4,
   "metadata": {},
   "outputs": [
    {
     "data": {
      "text/plain": [
       "1.5879227876724087"
      ]
     },
     "execution_count": 4,
     "metadata": {},
     "output_type": "execute_result"
    }
   ],
   "source": [
    "gaussian_function(1,1)[0]"
   ]
  },
  {
   "cell_type": "code",
   "execution_count": 3,
   "metadata": {},
   "outputs": [
    {
     "data": {
      "text/html": [
       "<div>\n",
       "<style scoped>\n",
       "    .dataframe tbody tr th:only-of-type {\n",
       "        vertical-align: middle;\n",
       "    }\n",
       "\n",
       "    .dataframe tbody tr th {\n",
       "        vertical-align: top;\n",
       "    }\n",
       "\n",
       "    .dataframe thead th {\n",
       "        text-align: right;\n",
       "    }\n",
       "</style>\n",
       "<table border=\"1\" class=\"dataframe\">\n",
       "  <thead>\n",
       "    <tr style=\"text-align: right;\">\n",
       "      <th></th>\n",
       "      <th>low</th>\n",
       "      <th>center</th>\n",
       "      <th>high</th>\n",
       "      <th>label</th>\n",
       "    </tr>\n",
       "    <tr>\n",
       "      <th>index</th>\n",
       "      <th></th>\n",
       "      <th></th>\n",
       "      <th></th>\n",
       "      <th></th>\n",
       "    </tr>\n",
       "  </thead>\n",
       "  <tbody>\n",
       "    <tr>\n",
       "      <th>x1</th>\n",
       "      <td>0.2</td>\n",
       "      <td>0.3</td>\n",
       "      <td>0.4</td>\n",
       "      <td>x1</td>\n",
       "    </tr>\n",
       "    <tr>\n",
       "      <th>y1</th>\n",
       "      <td>0.2</td>\n",
       "      <td>0.3</td>\n",
       "      <td>0.4</td>\n",
       "      <td>y1</td>\n",
       "    </tr>\n",
       "  </tbody>\n",
       "</table>\n",
       "</div>"
      ],
      "text/plain": [
       "       low  center  high label\n",
       "index                         \n",
       "x1     0.2     0.3   0.4    x1\n",
       "y1     0.2     0.3   0.4    y1"
      ]
     },
     "execution_count": 3,
     "metadata": {},
     "output_type": "execute_result"
    }
   ],
   "source": [
    "#Define the dictionary\n",
    "inputs_labels = {'x1' : 'x1',\n",
    "                 'y1' : 'y1'} \n",
    "\n",
    "dat = [('x1',0.2,0.3,0.4),\n",
    "       ('y1',0.2,0.3,0.4)]\n",
    "\n",
    "\n",
    "inputs_df = pd.DataFrame(dat,columns=['index','low','center','high'])\n",
    "inputs_df = inputs_df.set_index(['index'])\n",
    "#Create a function to insert the data and label\n",
    "inputs_df['label'] = inputs_df.index.map( lambda z : inputs_labels[z] )\n",
    "\n",
    "inputs_df"
   ]
  },
  {
   "cell_type": "code",
   "execution_count": 33,
   "metadata": {},
   "outputs": [
    {
     "data": {
      "text/html": [
       "<div>\n",
       "<style scoped>\n",
       "    .dataframe tbody tr th:only-of-type {\n",
       "        vertical-align: middle;\n",
       "    }\n",
       "\n",
       "    .dataframe tbody tr th {\n",
       "        vertical-align: top;\n",
       "    }\n",
       "\n",
       "    .dataframe thead th {\n",
       "        text-align: right;\n",
       "    }\n",
       "</style>\n",
       "<table border=\"1\" class=\"dataframe\">\n",
       "  <thead>\n",
       "    <tr style=\"text-align: right;\">\n",
       "      <th></th>\n",
       "      <th>low</th>\n",
       "      <th>center</th>\n",
       "      <th>high</th>\n",
       "      <th>label</th>\n",
       "      <th>encoded_low</th>\n",
       "      <th>encoded_center</th>\n",
       "      <th>encoded_high</th>\n",
       "      <th>average</th>\n",
       "      <th>span</th>\n",
       "    </tr>\n",
       "    <tr>\n",
       "      <th>index</th>\n",
       "      <th></th>\n",
       "      <th></th>\n",
       "      <th></th>\n",
       "      <th></th>\n",
       "      <th></th>\n",
       "      <th></th>\n",
       "      <th></th>\n",
       "      <th></th>\n",
       "      <th></th>\n",
       "    </tr>\n",
       "  </thead>\n",
       "  <tbody>\n",
       "    <tr>\n",
       "      <th>x1</th>\n",
       "      <td>0.2</td>\n",
       "      <td>0.3</td>\n",
       "      <td>0.4</td>\n",
       "      <td>x1</td>\n",
       "      <td>-1.0</td>\n",
       "      <td>-5.551115e-16</td>\n",
       "      <td>1.0</td>\n",
       "      <td>0.3</td>\n",
       "      <td>0.1</td>\n",
       "    </tr>\n",
       "    <tr>\n",
       "      <th>y1</th>\n",
       "      <td>0.2</td>\n",
       "      <td>0.3</td>\n",
       "      <td>0.4</td>\n",
       "      <td>y1</td>\n",
       "      <td>-1.0</td>\n",
       "      <td>-5.551115e-16</td>\n",
       "      <td>1.0</td>\n",
       "      <td>0.3</td>\n",
       "      <td>0.1</td>\n",
       "    </tr>\n",
       "  </tbody>\n",
       "</table>\n",
       "</div>"
      ],
      "text/plain": [
       "       low  center  high label  encoded_low  encoded_center  encoded_high  \\\n",
       "index                                                                       \n",
       "x1     0.2     0.3   0.4    x1         -1.0   -5.551115e-16           1.0   \n",
       "y1     0.2     0.3   0.4    y1         -1.0   -5.551115e-16           1.0   \n",
       "\n",
       "       average  span  \n",
       "index                 \n",
       "x1         0.3   0.1  \n",
       "y1         0.3   0.1  "
      ]
     },
     "execution_count": 33,
     "metadata": {},
     "output_type": "execute_result"
    }
   ],
   "source": [
    "# compute averages and span\n",
    "inputs_df['average'] = inputs_df.apply( lambda z : ( z['high'] + z['low'])/2 , axis=1)\n",
    "inputs_df['span'] = inputs_df.apply( lambda z : ( z['high'] - z['low'])/2 , axis=1)\n",
    "\n",
    "# encode the data\n",
    "inputs_df['encoded_low'] = inputs_df.apply( lambda z : ( z['low']  - z['average'] )/( z['span'] ), axis=1)\n",
    "inputs_df['encoded_center'] = inputs_df.apply( lambda z : ( z['center'] - z['average'] )/( z['span'] ), axis=1)\n",
    "inputs_df['encoded_high'] = inputs_df.apply( lambda z : ( z['high'] - z['average'] )/( z['span'] ), axis=1)\n",
    "\n",
    "#inputs_df = inputs_df.drop(['average','span'],axis=1)\n",
    "\n",
    "inputs_df"
   ]
  },
  {
   "cell_type": "code",
   "execution_count": 5,
   "metadata": {},
   "outputs": [
    {
     "data": {
      "text/plain": [
       "[(-1, -1), (-1, 1), (1, -1), (1, 1), (0, 0)]"
      ]
     },
     "execution_count": 5,
     "metadata": {},
     "output_type": "execute_result"
    }
   ],
   "source": [
    "#display every possible combination of the extreme (high and low values)\n",
    "\n",
    "import itertools\n",
    "encoded_inputs= list(itertools.product([-1,1],[-1,1]))\n",
    "encoded_inputs\n",
    "for i in range(0,1):\n",
    "    encoded_inputs.append((0,0))\n",
    "encoded_inputs"
   ]
  },
  {
   "cell_type": "code",
   "execution_count": 6,
   "metadata": {},
   "outputs": [
    {
     "data": {
      "text/html": [
       "<div>\n",
       "<style scoped>\n",
       "    .dataframe tbody tr th:only-of-type {\n",
       "        vertical-align: middle;\n",
       "    }\n",
       "\n",
       "    .dataframe tbody tr th {\n",
       "        vertical-align: top;\n",
       "    }\n",
       "\n",
       "    .dataframe thead th {\n",
       "        text-align: right;\n",
       "    }\n",
       "</style>\n",
       "<table border=\"1\" class=\"dataframe\">\n",
       "  <thead>\n",
       "    <tr style=\"text-align: right;\">\n",
       "      <th></th>\n",
       "      <th>x1</th>\n",
       "      <th>y1</th>\n",
       "    </tr>\n",
       "  </thead>\n",
       "  <tbody>\n",
       "    <tr>\n",
       "      <th>0</th>\n",
       "      <td>-1</td>\n",
       "      <td>-1</td>\n",
       "    </tr>\n",
       "    <tr>\n",
       "      <th>1</th>\n",
       "      <td>-1</td>\n",
       "      <td>1</td>\n",
       "    </tr>\n",
       "    <tr>\n",
       "      <th>2</th>\n",
       "      <td>1</td>\n",
       "      <td>-1</td>\n",
       "    </tr>\n",
       "    <tr>\n",
       "      <th>3</th>\n",
       "      <td>1</td>\n",
       "      <td>1</td>\n",
       "    </tr>\n",
       "    <tr>\n",
       "      <th>4</th>\n",
       "      <td>0</td>\n",
       "      <td>0</td>\n",
       "    </tr>\n",
       "  </tbody>\n",
       "</table>\n",
       "</div>"
      ],
      "text/plain": [
       "   x1  y1\n",
       "0  -1  -1\n",
       "1  -1   1\n",
       "2   1  -1\n",
       "3   1   1\n",
       "4   0   0"
      ]
     },
     "execution_count": 6,
     "metadata": {},
     "output_type": "execute_result"
    }
   ],
   "source": [
    "#couple the encoded results with the daaframe\n",
    "results=pd.DataFrame(encoded_inputs)\n",
    "results.columns=['x1','y1']\n",
    "results"
   ]
  },
  {
   "cell_type": "markdown",
   "metadata": {},
   "source": [
    "Use DoE and factioral design to locate the maxima. "
   ]
  },
  {
   "cell_type": "code",
   "execution_count": 7,
   "metadata": {},
   "outputs": [
    {
     "name": "stdout",
     "output_type": "stream",
     "text": [
      "The values of each real variable in the experiment:\n"
     ]
    },
    {
     "data": {
      "text/html": [
       "<div>\n",
       "<style scoped>\n",
       "    .dataframe tbody tr th:only-of-type {\n",
       "        vertical-align: middle;\n",
       "    }\n",
       "\n",
       "    .dataframe tbody tr th {\n",
       "        vertical-align: top;\n",
       "    }\n",
       "\n",
       "    .dataframe thead th {\n",
       "        text-align: right;\n",
       "    }\n",
       "</style>\n",
       "<table border=\"1\" class=\"dataframe\">\n",
       "  <thead>\n",
       "    <tr style=\"text-align: right;\">\n",
       "      <th></th>\n",
       "      <th>x1</th>\n",
       "      <th>y1</th>\n",
       "    </tr>\n",
       "  </thead>\n",
       "  <tbody>\n",
       "    <tr>\n",
       "      <th>0</th>\n",
       "      <td>0.2</td>\n",
       "      <td>0.2</td>\n",
       "    </tr>\n",
       "    <tr>\n",
       "      <th>1</th>\n",
       "      <td>0.2</td>\n",
       "      <td>0.4</td>\n",
       "    </tr>\n",
       "    <tr>\n",
       "      <th>2</th>\n",
       "      <td>0.4</td>\n",
       "      <td>0.2</td>\n",
       "    </tr>\n",
       "    <tr>\n",
       "      <th>3</th>\n",
       "      <td>0.4</td>\n",
       "      <td>0.4</td>\n",
       "    </tr>\n",
       "    <tr>\n",
       "      <th>4</th>\n",
       "      <td>0.3</td>\n",
       "      <td>0.3</td>\n",
       "    </tr>\n",
       "  </tbody>\n",
       "</table>\n",
       "</div>"
      ],
      "text/plain": [
       "    x1   y1\n",
       "0  0.2  0.2\n",
       "1  0.2  0.4\n",
       "2  0.4  0.2\n",
       "3  0.4  0.4\n",
       "4  0.3  0.3"
      ]
     },
     "execution_count": 7,
     "metadata": {},
     "output_type": "execute_result"
    }
   ],
   "source": [
    "#Couple the real experimental values with the different combinations\n",
    "real_experiment = results\n",
    "var_labels = []\n",
    "for var in ['x1','y1']:\n",
    "    var_label = inputs_df.loc[var]['label']\n",
    "    var_labels.append(var_label)\n",
    "    real_experiment[var_label] = results.apply(\n",
    "        lambda z : inputs_df.loc[var]['low'] if z[var]<0 else (inputs_df.loc[var]['high'] if z[var]>0 else inputs_df.loc[var]['center']), \n",
    "        axis=1)\n",
    "\n",
    "print(\"The values of each real variable in the experiment:\")\n",
    "real_experiment[var_labels]"
   ]
  },
  {
   "cell_type": "code",
   "execution_count": 9,
   "metadata": {},
   "outputs": [
    {
     "data": {
      "text/html": [
       "<div>\n",
       "<style scoped>\n",
       "    .dataframe tbody tr th:only-of-type {\n",
       "        vertical-align: middle;\n",
       "    }\n",
       "\n",
       "    .dataframe tbody tr th {\n",
       "        vertical-align: top;\n",
       "    }\n",
       "\n",
       "    .dataframe thead th {\n",
       "        text-align: right;\n",
       "    }\n",
       "</style>\n",
       "<table border=\"1\" class=\"dataframe\">\n",
       "  <thead>\n",
       "    <tr style=\"text-align: right;\">\n",
       "      <th></th>\n",
       "      <th>x1</th>\n",
       "      <th>y1</th>\n",
       "      <th>Respons</th>\n",
       "    </tr>\n",
       "  </thead>\n",
       "  <tbody>\n",
       "    <tr>\n",
       "      <th>0</th>\n",
       "      <td>0.2</td>\n",
       "      <td>0.2</td>\n",
       "      <td>7.473345</td>\n",
       "    </tr>\n",
       "    <tr>\n",
       "      <th>1</th>\n",
       "      <td>0.2</td>\n",
       "      <td>0.4</td>\n",
       "      <td>9.179031</td>\n",
       "    </tr>\n",
       "    <tr>\n",
       "      <th>2</th>\n",
       "      <td>0.4</td>\n",
       "      <td>0.2</td>\n",
       "      <td>6.385428</td>\n",
       "    </tr>\n",
       "    <tr>\n",
       "      <th>3</th>\n",
       "      <td>0.4</td>\n",
       "      <td>0.4</td>\n",
       "      <td>7.842812</td>\n",
       "    </tr>\n",
       "    <tr>\n",
       "      <th>4</th>\n",
       "      <td>0.3</td>\n",
       "      <td>0.3</td>\n",
       "      <td>7.938786</td>\n",
       "    </tr>\n",
       "  </tbody>\n",
       "</table>\n",
       "</div>"
      ],
      "text/plain": [
       "    x1   y1   Respons\n",
       "0  0.2  0.2  7.473345\n",
       "1  0.2  0.4  9.179031\n",
       "2  0.4  0.2  6.385428\n",
       "3  0.4  0.4  7.842812\n",
       "4  0.3  0.3  7.938786"
      ]
     },
     "execution_count": 9,
     "metadata": {},
     "output_type": "execute_result"
    }
   ],
   "source": [
    "#Calculate the respons for each scenario \n",
    "y = []\n",
    "\n",
    "for i in range(0,len(real_experiment)):\n",
    "    y.append(gaussian_function(real_experiment['x1'][i],real_experiment['y1'][i])[0])\n",
    "results['Respons'] = y\n",
    "results\n"
   ]
  },
  {
   "cell_type": "markdown",
   "metadata": {},
   "source": [
    "Getting new x and y values"
   ]
  },
  {
   "cell_type": "code",
   "execution_count": 63,
   "metadata": {},
   "outputs": [
    {
     "name": "stdout",
     "output_type": "stream",
     "text": [
      "   z1  z2   Respons\n",
      "0  -1  -1  7.473345\n",
      "1  -1   1  9.179031\n",
      "2   1  -1  6.385428\n",
      "3   1   1  7.842812\n",
      "4   0   0  7.938786\n"
     ]
    }
   ],
   "source": [
    "#Making dataframe with encoded results and response\n",
    "results1=pd.DataFrame(encoded_inputs)\n",
    "y_df = pd.DataFrame(y)\n",
    "results1 = [results1,y_df]\n",
    "#merging two dataframes\n",
    "results1 = pd.concat(results1,axis=1)\n",
    "results1.columns=['z1','z2','Respons']\n",
    "print(results1)\n"
   ]
  },
  {
   "cell_type": "code",
   "execution_count": 11,
   "metadata": {},
   "outputs": [
    {
     "name": "stdout",
     "output_type": "stream",
     "text": [
      "ybar is 7.76388074044695\n",
      "main effects\n",
      "{'z1': -1.2120680838087008, 'z2': 1.5815348570622323}\n"
     ]
    }
   ],
   "source": [
    "#Calculating the main effects\n",
    "\n",
    "labels = ['z1','z2']\n",
    "#avergge value of the results bar\n",
    "print('ybar is', results1['Respons'].mean())\n",
    "main_effects = {}\n",
    "\n",
    "#loop over the group that you had\n",
    "print('main effects')\n",
    "for key in labels:\n",
    "        average_effects = results1.groupby(key)['Respons'].mean()\n",
    "        main_effects[key] = sum( [i*average_effects[i] for i in [-1,1]])\n",
    "print(main_effects)"
   ]
  },
  {
   "cell_type": "code",
   "execution_count": 64,
   "metadata": {},
   "outputs": [
    {
     "data": {
      "text/plain": [
       "{('z1', 'z2'): -0.124150881382036}"
      ]
     },
     "execution_count": 64,
     "metadata": {},
     "output_type": "execute_result"
    }
   ],
   "source": [
    "#Calculating the two-way effects\n",
    "twoway_labels = list(itertools.combinations(labels, 2))\n",
    "\n",
    "\n",
    "twoway_effects = {}\n",
    "for key in twoway_labels:\n",
    "    \n",
    "    effects = results1.groupby([key[0],key[1]])['Respons'].mean()\n",
    "    \n",
    "    twoway_effects[key] = sum([ i*j*effects[i][j]/2 for i in [-1,1] for j in [-1,1] ])\n",
    "twoway_effects"
   ]
  },
  {
   "cell_type": "code",
   "execution_count": 28,
   "metadata": {},
   "outputs": [
    {
     "data": {
      "text/html": [
       "<div>\n",
       "<style scoped>\n",
       "    .dataframe tbody tr th:only-of-type {\n",
       "        vertical-align: middle;\n",
       "    }\n",
       "\n",
       "    .dataframe tbody tr th {\n",
       "        vertical-align: top;\n",
       "    }\n",
       "\n",
       "    .dataframe thead th {\n",
       "        text-align: right;\n",
       "    }\n",
       "</style>\n",
       "<table border=\"1\" class=\"dataframe\">\n",
       "  <thead>\n",
       "    <tr style=\"text-align: right;\">\n",
       "      <th></th>\n",
       "      <th>Standardized effect</th>\n",
       "      <th>cum_percentage</th>\n",
       "    </tr>\n",
       "  </thead>\n",
       "  <tbody>\n",
       "    <tr>\n",
       "      <th>z2</th>\n",
       "      <td>1.581535</td>\n",
       "      <td>54.20</td>\n",
       "    </tr>\n",
       "    <tr>\n",
       "      <th>z1</th>\n",
       "      <td>1.212068</td>\n",
       "      <td>95.74</td>\n",
       "    </tr>\n",
       "    <tr>\n",
       "      <th>(z1, z2)</th>\n",
       "      <td>0.124151</td>\n",
       "      <td>100.00</td>\n",
       "    </tr>\n",
       "  </tbody>\n",
       "</table>\n",
       "</div>"
      ],
      "text/plain": [
       "          Standardized effect  cum_percentage\n",
       "z2                   1.581535           54.20\n",
       "z1                   1.212068           95.74\n",
       "(z1, z2)             0.124151          100.00"
      ]
     },
     "execution_count": 28,
     "metadata": {},
     "output_type": "execute_result"
    }
   ],
   "source": [
    "#Put all effects in one dataframe\n",
    "\n",
    "effects=[] #pd.DataFrame({})\n",
    "indexes=[]\n",
    "for i,k in enumerate(main_effects.keys()):\n",
    "    effects.append(abs(main_effects[k]))\n",
    "    indexes.append(k)\n",
    "for i,k in enumerate(twoway_effects.keys()):\n",
    "    effects.append(abs(twoway_effects[k]))\n",
    "    indexes.append(k)\n",
    "  \n",
    "    \n",
    "effects_df=pd.DataFrame({\"Standardized effect\":effects})\n",
    "\n",
    "# reset the indexes\n",
    "effects_df.index=indexes\n",
    "# Sort values in descending order\n",
    "effects_df = effects_df.sort_values(by='Standardized effect', ascending=False)\n",
    "# Add cumulative percentage column\n",
    "effects_df[\"cum_percentage\"] = round(effects_df[\"Standardized effect\"].cumsum()/effects_df[\"Standardized effect\"].sum()*100,2)\n",
    "\n",
    "# Display data frame\n",
    "effects_df"
   ]
  },
  {
   "cell_type": "code",
   "execution_count": 13,
   "metadata": {},
   "outputs": [
    {
     "name": "stdout",
     "output_type": "stream",
     "text": [
      "yhat = 7.764 -0.606 z1 + 0.791 z2  -0.062 z1 z2\n"
     ]
    }
   ],
   "source": [
    "#Calculate function\n",
    "\n",
    "s = \"yhat = \"\n",
    "\n",
    "s += \"%0.3f \"%(results1['Respons'].mean())\n",
    "\n",
    "for i,k in enumerate(main_effects.keys()):\n",
    "    if(main_effects[k]<0):\n",
    "        s += \"%0.3f %s \"%(main_effects[k]/2.0, k )\n",
    "    else:\n",
    "        s += \"+ %0.3f %s \"%(main_effects[k]/2.0, k )\n",
    "\n",
    "for i,k in enumerate(twoway_effects.keys()):\n",
    "    if(twoway_effects[k]<0):\n",
    "        s += \" %0.3f %s %s\"%( twoway_effects[k]/2.0, k[0],k[1])\n",
    "    else:\n",
    "        s += \"+ %0.3f %s %s\"%( twoway_effects[k]/2.0, k[0],k[1])\n",
    "\n",
    "print(s)"
   ]
  },
  {
   "cell_type": "code",
   "execution_count": 65,
   "metadata": {},
   "outputs": [
    {
     "name": "stderr",
     "output_type": "stream",
     "text": [
      "C:\\Users\\tampa920\\Anaconda3\\lib\\site-packages\\statsmodels\\stats\\stattools.py:74: ValueWarning: omni_normtest is not valid with less than 8 observations; 5 samples were given.\n",
      "  warn(\"omni_normtest is not valid with less than 8 observations; %i \"\n"
     ]
    },
    {
     "data": {
      "text/html": [
       "<table class=\"simpletable\">\n",
       "<caption>OLS Regression Results</caption>\n",
       "<tr>\n",
       "  <th>Dep. Variable:</th>            <td>y</td>        <th>  R-squared:         </th> <td>   0.990</td>\n",
       "</tr>\n",
       "<tr>\n",
       "  <th>Model:</th>                   <td>OLS</td>       <th>  Adj. R-squared:    </th> <td>   0.962</td>\n",
       "</tr>\n",
       "<tr>\n",
       "  <th>Method:</th>             <td>Least Squares</td>  <th>  F-statistic:       </th> <td>   34.74</td>\n",
       "</tr>\n",
       "<tr>\n",
       "  <th>Date:</th>             <td>Thu, 15 Jun 2023</td> <th>  Prob (F-statistic):</th>  <td> 0.124</td> \n",
       "</tr>\n",
       "<tr>\n",
       "  <th>Time:</th>                 <td>16:42:29</td>     <th>  Log-Likelihood:    </th> <td>  5.0886</td>\n",
       "</tr>\n",
       "<tr>\n",
       "  <th>No. Observations:</th>      <td>     5</td>      <th>  AIC:               </th> <td>  -2.177</td>\n",
       "</tr>\n",
       "<tr>\n",
       "  <th>Df Residuals:</th>          <td>     1</td>      <th>  BIC:               </th> <td>  -3.739</td>\n",
       "</tr>\n",
       "<tr>\n",
       "  <th>Df Model:</th>              <td>     3</td>      <th>                     </th>     <td> </td>   \n",
       "</tr>\n",
       "<tr>\n",
       "  <th>Covariance Type:</th>      <td>nonrobust</td>    <th>                     </th>     <td> </td>   \n",
       "</tr>\n",
       "</table>\n",
       "<table class=\"simpletable\">\n",
       "<tr>\n",
       "      <td></td>         <th>coef</th>     <th>std err</th>      <th>t</th>      <th>P>|t|</th>  <th>[0.025</th>    <th>0.975]</th>  \n",
       "</tr>\n",
       "<tr>\n",
       "  <th>Intercept</th> <td>    7.7639</td> <td>    0.087</td> <td>   88.778</td> <td> 0.007</td> <td>    6.653</td> <td>    8.875</td>\n",
       "</tr>\n",
       "<tr>\n",
       "  <th>z1</th>        <td>   -0.6060</td> <td>    0.098</td> <td>   -6.198</td> <td> 0.102</td> <td>   -1.848</td> <td>    0.636</td>\n",
       "</tr>\n",
       "<tr>\n",
       "  <th>z2</th>        <td>    0.7908</td> <td>    0.098</td> <td>    8.088</td> <td> 0.078</td> <td>   -0.452</td> <td>    2.033</td>\n",
       "</tr>\n",
       "<tr>\n",
       "  <th>z1:z2</th>     <td>   -0.0621</td> <td>    0.098</td> <td>   -0.635</td> <td> 0.640</td> <td>   -1.304</td> <td>    1.180</td>\n",
       "</tr>\n",
       "</table>\n",
       "<table class=\"simpletable\">\n",
       "<tr>\n",
       "  <th>Omnibus:</th>       <td>   nan</td> <th>  Durbin-Watson:     </th> <td>   1.250</td>\n",
       "</tr>\n",
       "<tr>\n",
       "  <th>Prob(Omnibus):</th> <td>   nan</td> <th>  Jarque-Bera (JB):  </th> <td>   1.888</td>\n",
       "</tr>\n",
       "<tr>\n",
       "  <th>Skew:</th>          <td> 1.500</td> <th>  Prob(JB):          </th> <td>   0.389</td>\n",
       "</tr>\n",
       "<tr>\n",
       "  <th>Kurtosis:</th>      <td> 3.250</td> <th>  Cond. No.          </th> <td>    1.12</td>\n",
       "</tr>\n",
       "</table><br/><br/>Notes:<br/>[1] Standard Errors assume that the covariance matrix of the errors is correctly specified."
      ],
      "text/plain": [
       "<class 'statsmodels.iolib.summary.Summary'>\n",
       "\"\"\"\n",
       "                            OLS Regression Results                            \n",
       "==============================================================================\n",
       "Dep. Variable:                      y   R-squared:                       0.990\n",
       "Model:                            OLS   Adj. R-squared:                  0.962\n",
       "Method:                 Least Squares   F-statistic:                     34.74\n",
       "Date:                Thu, 15 Jun 2023   Prob (F-statistic):              0.124\n",
       "Time:                        16:42:29   Log-Likelihood:                 5.0886\n",
       "No. Observations:                   5   AIC:                            -2.177\n",
       "Df Residuals:                       1   BIC:                            -3.739\n",
       "Df Model:                           3                                         \n",
       "Covariance Type:            nonrobust                                         \n",
       "==============================================================================\n",
       "                 coef    std err          t      P>|t|      [0.025      0.975]\n",
       "------------------------------------------------------------------------------\n",
       "Intercept      7.7639      0.087     88.778      0.007       6.653       8.875\n",
       "z1            -0.6060      0.098     -6.198      0.102      -1.848       0.636\n",
       "z2             0.7908      0.098      8.088      0.078      -0.452       2.033\n",
       "z1:z2         -0.0621      0.098     -0.635      0.640      -1.304       1.180\n",
       "==============================================================================\n",
       "Omnibus:                          nan   Durbin-Watson:                   1.250\n",
       "Prob(Omnibus):                    nan   Jarque-Bera (JB):                1.888\n",
       "Skew:                           1.500   Prob(JB):                        0.389\n",
       "Kurtosis:                       3.250   Cond. No.                         1.12\n",
       "==============================================================================\n",
       "\n",
       "Notes:\n",
       "[1] Standard Errors assume that the covariance matrix of the errors is correctly specified.\n",
       "\"\"\""
      ]
     },
     "execution_count": 65,
     "metadata": {},
     "output_type": "execute_result"
    }
   ],
   "source": [
    "#Getting all values in summary (fast way)\n",
    "y = results['Respons']\n",
    "xlabs=['z1','z2']\n",
    "x = results1[xlabs]\n",
    "x = sm.add_constant(x)\n",
    "\n",
    "#smf.ols is a modelling package, fit formula for the results\n",
    "res1 = smf.ols(formula='y ~ z1 + z2 + z1:z2', data=results1).fit()\n",
    "\n",
    "res1.summary()"
   ]
  },
  {
   "cell_type": "code",
   "execution_count": 55,
   "metadata": {},
   "outputs": [
    {
     "data": {
      "text/html": [
       "<div>\n",
       "<style scoped>\n",
       "    .dataframe tbody tr th:only-of-type {\n",
       "        vertical-align: middle;\n",
       "    }\n",
       "\n",
       "    .dataframe tbody tr th {\n",
       "        vertical-align: top;\n",
       "    }\n",
       "\n",
       "    .dataframe thead th {\n",
       "        text-align: right;\n",
       "    }\n",
       "</style>\n",
       "<table border=\"1\" class=\"dataframe\">\n",
       "  <thead>\n",
       "    <tr style=\"text-align: right;\">\n",
       "      <th></th>\n",
       "      <th>z1</th>\n",
       "      <th>z2</th>\n",
       "      <th>z1_decoded</th>\n",
       "      <th>z2_decoded</th>\n",
       "      <th>w</th>\n",
       "    </tr>\n",
       "  </thead>\n",
       "  <tbody>\n",
       "    <tr>\n",
       "      <th>0</th>\n",
       "      <td>-0.2</td>\n",
       "      <td>0.153277</td>\n",
       "      <td>0.28</td>\n",
       "      <td>0.315328</td>\n",
       "      <td>8.183304</td>\n",
       "    </tr>\n",
       "    <tr>\n",
       "      <th>1</th>\n",
       "      <td>-0.4</td>\n",
       "      <td>0.306555</td>\n",
       "      <td>0.26</td>\n",
       "      <td>0.330655</td>\n",
       "      <td>8.415939</td>\n",
       "    </tr>\n",
       "    <tr>\n",
       "      <th>2</th>\n",
       "      <td>-0.6</td>\n",
       "      <td>0.459832</td>\n",
       "      <td>0.24</td>\n",
       "      <td>0.345983</td>\n",
       "      <td>8.635267</td>\n",
       "    </tr>\n",
       "    <tr>\n",
       "      <th>3</th>\n",
       "      <td>-0.8</td>\n",
       "      <td>0.613110</td>\n",
       "      <td>0.22</td>\n",
       "      <td>0.361311</td>\n",
       "      <td>8.839918</td>\n",
       "    </tr>\n",
       "    <tr>\n",
       "      <th>4</th>\n",
       "      <td>-1.0</td>\n",
       "      <td>0.766387</td>\n",
       "      <td>0.20</td>\n",
       "      <td>0.376639</td>\n",
       "      <td>9.028591</td>\n",
       "    </tr>\n",
       "    <tr>\n",
       "      <th>...</th>\n",
       "      <td>...</td>\n",
       "      <td>...</td>\n",
       "      <td>...</td>\n",
       "      <td>...</td>\n",
       "      <td>...</td>\n",
       "    </tr>\n",
       "    <tr>\n",
       "      <th>95</th>\n",
       "      <td>-19.2</td>\n",
       "      <td>14.714634</td>\n",
       "      <td>-1.62</td>\n",
       "      <td>1.771463</td>\n",
       "      <td>0.003993</td>\n",
       "    </tr>\n",
       "    <tr>\n",
       "      <th>96</th>\n",
       "      <td>-19.4</td>\n",
       "      <td>14.867912</td>\n",
       "      <td>-1.64</td>\n",
       "      <td>1.786791</td>\n",
       "      <td>0.003299</td>\n",
       "    </tr>\n",
       "    <tr>\n",
       "      <th>97</th>\n",
       "      <td>-19.6</td>\n",
       "      <td>15.021189</td>\n",
       "      <td>-1.66</td>\n",
       "      <td>1.802119</td>\n",
       "      <td>0.002720</td>\n",
       "    </tr>\n",
       "    <tr>\n",
       "      <th>98</th>\n",
       "      <td>-19.8</td>\n",
       "      <td>15.174467</td>\n",
       "      <td>-1.68</td>\n",
       "      <td>1.817447</td>\n",
       "      <td>0.002237</td>\n",
       "    </tr>\n",
       "    <tr>\n",
       "      <th>99</th>\n",
       "      <td>-20.0</td>\n",
       "      <td>15.327744</td>\n",
       "      <td>-1.70</td>\n",
       "      <td>1.832774</td>\n",
       "      <td>0.001835</td>\n",
       "    </tr>\n",
       "  </tbody>\n",
       "</table>\n",
       "<p>100 rows × 5 columns</p>\n",
       "</div>"
      ],
      "text/plain": [
       "      z1         z2  z1_decoded  z2_decoded         w\n",
       "0   -0.2   0.153277        0.28    0.315328  8.183304\n",
       "1   -0.4   0.306555        0.26    0.330655  8.415939\n",
       "2   -0.6   0.459832        0.24    0.345983  8.635267\n",
       "3   -0.8   0.613110        0.22    0.361311  8.839918\n",
       "4   -1.0   0.766387        0.20    0.376639  9.028591\n",
       "..   ...        ...         ...         ...       ...\n",
       "95 -19.2  14.714634       -1.62    1.771463  0.003993\n",
       "96 -19.4  14.867912       -1.64    1.786791  0.003299\n",
       "97 -19.6  15.021189       -1.66    1.802119  0.002720\n",
       "98 -19.8  15.174467       -1.68    1.817447  0.002237\n",
       "99 -20.0  15.327744       -1.70    1.832774  0.001835\n",
       "\n",
       "[100 rows x 5 columns]"
      ]
     },
     "execution_count": 55,
     "metadata": {},
     "output_type": "execute_result"
    }
   ],
   "source": [
    "#See that we can exclude z1xz2 factor, since it has little impact (10%, seen from cumalative percentage).\n",
    "#However, I will include it in my calculation\n",
    "#Now we want to find maximum of yhat\n",
    "#Need to find delta values based on the coefficients for our yhat function.\n",
    "\n",
    "# Define origin\n",
    "origin = [0, 0]\n",
    "\n",
    "# Get coefficient \n",
    "coefficients = {\n",
    "    'z1': res1.params['z1'],\n",
    "    'z2': res1.params['z2'],\n",
    "    'z1:z2': res1.params['z1:z2']\n",
    "}\n",
    "\n",
    "# Compute delta based on coefficients\n",
    "delta_z1 = -0.2\n",
    "delta_z2 = delta_z1 * coefficients['z1'] / coefficients['z2']\n",
    "delta = [delta_z1, delta_z2]\n",
    "\n",
    "march = []\n",
    "for i in range(0, 100):\n",
    "    # Predict the next (x,y) point based on the regression model\n",
    "    next_point = {\n",
    "        'z1': origin[0] + (i + 1) * delta[0],\n",
    "        'z2': origin[1] + (i + 1) * delta[1]\n",
    "    }\n",
    "    march.append(next_point)\n",
    "\n",
    "# Decode x and y values and call function in order to get the respons data to find maximun.\n",
    "March = pd.DataFrame(march, columns=['z1', 'z2'])\n",
    "March['z1_decoded'] = (March['z1'] * inputs_df['span']['x1'] + inputs_df['average']['x1'])\n",
    "March['z2_decoded'] = (March['z2'] * inputs_df['span']['y1'] + inputs_df['average']['y1'])\n",
    "March['w'] = gaussian_function(March['z1_decoded'], March['z2_decoded'])[0]\n",
    "\n",
    "March"
   ]
  },
  {
   "cell_type": "code",
   "execution_count": 56,
   "metadata": {},
   "outputs": [
    {
     "data": {
      "text/plain": [
       "Text(0, 0.5, 'Yield')"
      ]
     },
     "execution_count": 56,
     "metadata": {},
     "output_type": "execute_result"
    },
    {
     "data": {
      "image/png": "[encoded data removed]",
      "text/plain": [
       "<Figure size 432x288 with 1 Axes>"
      ]
     },
     "metadata": {
      "needs_background": "light"
     },
     "output_type": "display_data"
    }
   ],
   "source": [
    "# Plot response values to see maximum value visially \n",
    "ax = March['w'].plot()\n",
    "ax.set_xlabel(\"step\")\n",
    "ax.set_ylabel(\"Yield\")"
   ]
  },
  {
   "cell_type": "markdown",
   "metadata": {},
   "source": [
    "Thereby, the maximum can be found in the vector w, and also seen in the figure above. "
   ]
  },
  {
   "cell_type": "code",
   "execution_count": 62,
   "metadata": {},
   "outputs": [
    {
     "name": "stdout",
     "output_type": "stream",
     "text": [
      "The maximum point is: 9.843146157879355\n"
     ]
    }
   ],
   "source": [
    "# Find maximum point\n",
    "max_point = March.loc[March['w'].idxmax()]\n",
    "print('The maximum point is:', max_point['w'])\n",
    "\n"
   ]
  }
 ],
 "metadata": {
  "kernelspec": {
   "display_name": "Python 3",
   "language": "python",
   "name": "python3"
  },
  "language_info": {
   "codemirror_mode": {
    "name": "ipython",
    "version": 3
   },
   "file_extension": ".py",
   "mimetype": "text/x-python",
   "name": "python",
   "nbconvert_exporter": "python",
   "pygments_lexer": "ipython3",
   "version": "3.8.8"
  }
 },
 "nbformat": 4,
 "nbformat_minor": 2
}
